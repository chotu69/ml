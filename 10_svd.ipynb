{
  "nbformat": 4,
  "nbformat_minor": 0,
  "metadata": {
    "colab": {
      "provenance": []
    },
    "kernelspec": {
      "name": "python3",
      "display_name": "Python 3"
    },
    "language_info": {
      "name": "python"
    }
  },
  "cells": [
    {
      "cell_type": "markdown",
      "source": [
        "10) Implement a Singular Value Decomposition (SVD) on the given input matrix.  Display U matrix, the singular values, and the V transpose matrix. Finally, reconstruct the original matrix and display  the results."
      ],
      "metadata": {
        "id": "KY-_pixRTcfB"
      }
    },
    {
      "cell_type": "markdown",
      "source": [
        "Singular Value Decomposition (SVD) is a powerful mathematical technique that factorizes a matrix into three simpler matrices. It's commonly used in linear algebra for dimensionality reduction, noise reduction, and matrix reconstruction. SVD is defined as:\n",
        "\n",
        "𝐴\n",
        "=\n",
        "𝑈\n",
        "Σ\n",
        "𝑉\n",
        "𝑇\n",
        "A=UΣV\n",
        "T\n",
        "\n",
        "Where:\n",
        "\n",
        "A: The original matrix (m × n).\n",
        "U: An orthogonal matrix (m × m), representing the left singular vectors of the original matrix.\n",
        "Σ (Sigma): A diagonal matrix (m × n) of singular values, which are the square roots of the eigenvalues of\n",
        "𝐴\n",
        "𝑇\n",
        "𝐴\n",
        "A\n",
        "T\n",
        " A or\n",
        "𝐴\n",
        "𝐴\n",
        "𝑇\n",
        "AA\n",
        "T\n",
        " . The singular values are always non-negative and sorted in descending order.\n",
        "V^T (V transpose): The transpose of an orthogonal matrix (n × n), representing the right singular vectors of the original matrix.\n",
        "Key Concepts:\n",
        "Singular Values:\n",
        "\n",
        "The values in the diagonal matrix Σ. These values represent the \"importance\" or \"weight\" of the corresponding singular vectors.\n",
        "Orthogonal Matrices (U and V):\n",
        "\n",
        "The columns of U and V are orthogonal to each other, meaning they form a set of vectors that are perpendicular and have unit length.\n",
        "Dimensionality Reduction:\n",
        "\n",
        "SVD is often used for reducing the dimensionality of data while retaining the most significant features. By keeping only the largest singular values (and their corresponding vectors), you can approximate the original matrix while discarding noise or less important information.\n",
        "Matrix Reconstruction:\n",
        "\n",
        "Using the U, Σ, and V matrices, the original matrix can be reconstructed as a product of these three matrices. If you reduce the number of singular values (by zeroing out the smaller ones), you can create a low-rank approximation of the matrix."
      ],
      "metadata": {
        "id": "O2Xa_QTcWKkr"
      }
    },
    {
      "cell_type": "code",
      "source": [
        "import numpy as np\n",
        "\n",
        "# Define the input matrix\n",
        "# For this example, let's use a 4x3 matrix\n",
        "A = np.array([\n",
        "    [1, 2, 3],\n",
        "    [4, 5, 6],\n",
        "    [7, 8, 9],\n",
        "    [10, 11, 12]\n",
        "])\n",
        "\n",
        "print(\"Original Matrix A:\")\n",
        "print(A)\n",
        "print()\n",
        "\n",
        "# Perform SVD\n",
        "U, s, Vt = np.linalg.svd(A, full_matrices=False)\n",
        "\n",
        "# Display U matrix\n",
        "print(\"U matrix:\")\n",
        "print(U)\n",
        "print()\n",
        "\n",
        "# Display singular values\n",
        "print(\"Singular values:\")\n",
        "print(s)\n",
        "print()\n",
        "\n",
        "# Display V transpose matrix\n",
        "print(\"V transpose matrix:\")\n",
        "print(Vt)\n",
        "print()\n",
        "\n",
        "# Reconstruct the original matrix\n",
        "# We need to create a diagonal matrix from the singular values\n",
        "S = np.diag(s)\n",
        "\n",
        "# Reconstruct A = U * S * Vt\n",
        "A_reconstructed = np.dot(U, np.dot(S, Vt))\n",
        "\n",
        "print(\"Reconstructed Matrix A:\")\n",
        "print(A_reconstructed)\n",
        "print()\n",
        "\n",
        "# Check if the reconstruction is close to the original\n",
        "if np.allclose(A, A_reconstructed):\n",
        "    print(\"The reconstruction is successful!\")\n",
        "else:\n",
        "    print(\"There might be some numerical differences due to floating-point arithmetic.\")\n",
        "\n",
        "# Calculate and print the difference between original and reconstructed matrices\n",
        "diff = np.abs(A - A_reconstructed)\n",
        "print(\"\\nDifference between original and reconstructed matrices:\")\n",
        "print(diff)\n",
        "print(\"\\nMaximum difference:\", np.max(diff))"
      ],
      "metadata": {
        "id": "uXvKo7OaTdvm"
      },
      "execution_count": null,
      "outputs": []
    }
  ]
}
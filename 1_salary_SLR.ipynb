{
  "nbformat": 4,
  "nbformat_minor": 0,
  "metadata": {
    "colab": {
      "provenance": []
    },
    "kernelspec": {
      "name": "python3",
      "display_name": "Python 3"
    },
    "language_info": {
      "name": "python"
    }
  },
  "cells": [
    {
      "cell_type": "markdown",
      "source": [
        "1) Implement a simple linear regression model for the salary.csv dataset."
      ],
      "metadata": {
        "id": "KY-_pixRTcfB"
      }
    },
    {
      "cell_type": "markdown",
      "source": [
        "Linear Regression comes under the category of supervised machine learning algorithms. In\n",
        "supervised learning when given a data-set, we already know what the correct output should\n",
        "look like, we already have an idea of the relationship between the input and the output.\n",
        "Supervised learning broadly covers two types of problems:\n",
        "\n",
        "1. Regression problems\n",
        "2. Classification problems\n",
        "\n",
        "In simple words, regression problems try to predict results within a continuous output i.e they\n",
        "try to map input variables to some continuous function. The output here is a continuous set. It\n",
        "also helps to remember that when the target variable we are trying to predict is continuous.\n",
        "Simple Linear Regression: This is the simplest form of linear regression, and it involves\n",
        "only one independent variable and one dependent variable. The equation for simple linear\n",
        "regression is: Y= β0 + β1.X , where, Y is the dependent variable, X is the independent\n",
        "variable, β0 is the intercept, β1 is the slope\n",
        "Scatter Plot: A scatter plot is a type of plot that displays values for two variables as points\n",
        "on a Cartesian plane. Each point represents a single observation with values for the variables\n",
        "plotted along the x-axis and y-axis. Scatter plots are useful for visually inspecting the\n",
        "relationship between two variables and identifying patterns or trends.\n",
        "Regression Line: In statistics and machine learning, a regression line is a straight line that\n",
        "best fits the data points in a scatter plot. It represents the relationship between the\n",
        "independent variable (x-axis) and the dependent variable (y-axis) in a linear regression\n",
        "model. The regression line is typically expressed as: y = mx + c where y) is the predicted\n",
        "value of the dependent variable, x is the independent variable, m is the slope of the line,\n",
        "which represents the rate of change of y with respect to x , c is the y-intercept, which is the\n",
        "value of y when x is 0."
      ],
      "metadata": {
        "id": "O2Xa_QTcWKkr"
      }
    },
    {
      "cell_type": "code",
      "source": [
        "import numpy as np\n",
        "import pandas as pd\n",
        "import matplotlib.pyplot as plt\n",
        "from sklearn.model_selection import train_test_split\n",
        "from sklearn.linear_model import LinearRegression\n",
        "from sklearn.preprocessing import StandardScaler\n",
        "from sklearn.metrics import mean_absolute_error, mean_squared_error\n",
        "\n",
        "data = pd.read_csv('salary.csv')\n",
        "\n",
        "print(data.head())\n",
        "\n",
        "X = data[['months']]\n",
        "y = data['salary']\n",
        "\n",
        "scaler = StandardScaler()\n",
        "X_scaled = scaler.fit_transform(X)\n",
        "\n",
        "X_train, X_test, y_train, y_test = train_test_split(X_scaled, y, test_size=0.2, random_state=42)\n",
        "\n",
        "model = LinearRegression()\n",
        "model.fit(X_train, y_train)\n",
        "\n",
        "y_pred = model.predict(X_test)\n",
        "\n",
        "mae = mean_absolute_error(y_test, y_pred)\n",
        "mse = mean_squared_error(y_test, y_pred)\n",
        "rmse = np.sqrt(mse)\n",
        "\n",
        "print(f\"Mean Absolute Error (MAE): {mae}\")\n",
        "print(f\"Mean Squared Error (MSE): {mse}\")\n",
        "print(f\"Root Mean Squared Error (RMSE): {rmse}\")\n",
        "\n",
        "\n",
        "plt.figure(figsize=(10, 6))\n",
        "plt.scatter(X_train, y_train, color='blue', label='Actual Salary (Training set)')\n",
        "plt.plot(X_train, model.predict(X_train), color='red', label='Regression Line')\n",
        "plt.title('Salary vs Experience in Months (Training set)')\n",
        "plt.xlabel('Months of Experience')\n",
        "plt.ylabel('Salary')\n",
        "plt.legend()\n",
        "plt.show()\n",
        "\n",
        "plt.figure(figsize=(10, 6))\n",
        "plt.scatter(X_test, y_test, color='green', label='Actual Salary (Test set)')\n",
        "plt.plot(X_train, model.predict(X_train), color='red', label='Regression Line')\n",
        "plt.title('Salary vs Experience in Months (Test set)')\n",
        "plt.xlabel('Months of Experience')\n",
        "plt.ylabel('Salary')\n",
        "plt.legend()\n",
        "plt.show()"
      ],
      "metadata": {
        "id": "uXvKo7OaTdvm"
      },
      "execution_count": null,
      "outputs": []
    }
  ]
}
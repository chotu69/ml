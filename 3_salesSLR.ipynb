{
  "nbformat": 4,
  "nbformat_minor": 0,
  "metadata": {
    "colab": {
      "provenance": []
    },
    "kernelspec": {
      "name": "python3",
      "display_name": "Python 3"
    },
    "language_info": {
      "name": "python"
    }
  },
  "cells": [
    {
      "cell_type": "markdown",
      "source": [
        "3) Implement a simple linear regression model for the sales.csv dataset"
      ],
      "metadata": {
        "id": "KY-_pixRTcfB"
      }
    },
    {
      "cell_type": "markdown",
      "source": [
        "Linear Regression comes under the category of supervised machine learning algorithms. In\n",
        "supervised learning when given a data-set, we already know what the correct output should\n",
        "look like, we already have an idea of the relationship between the input and the output.\n",
        "Supervised learning broadly covers two types of problems:\n",
        "\n",
        "1. Regression problems\n",
        "2. Classification problems\n",
        "\n",
        "In simple words, regression problems try to predict results within a continuous output i.e they\n",
        "try to map input variables to some continuous function. The output here is a continuous set. It\n",
        "also helps to remember that when the target variable we are trying to predict is continuous.\n",
        "Simple Linear Regression: This is the simplest form of linear regression, and it involves\n",
        "only one independent variable and one dependent variable. The equation for simple linear\n",
        "regression is: Y= β0 + β1.X , where, Y is the dependent variable, X is the independent\n",
        "variable, β0 is the intercept, β1 is the slope\n",
        "Scatter Plot: A scatter plot is a type of plot that displays values for two variables as points\n",
        "on a Cartesian plane. Each point represents a single observation with values for the variables\n",
        "plotted along the x-axis and y-axis. Scatter plots are useful for visually inspecting the\n",
        "relationship between two variables and identifying patterns or trends.\n",
        "Regression Line: In statistics and machine learning, a regression line is a straight line that\n",
        "best fits the data points in a scatter plot. It represents the relationship between the\n",
        "independent variable (x-axis) and the dependent variable (y-axis) in a linear regression\n",
        "model. The regression line is typically expressed as: y = mx + c where y) is the predicted\n",
        "value of the dependent variable, x is the independent variable, m is the slope of the line,\n",
        "which represents the rate of change of y with respect to x , c is the y-intercept, which is the\n",
        "value of y when x is 0."
      ],
      "metadata": {
        "id": "O2Xa_QTcWKkr"
      }
    },
    {
      "cell_type": "code",
      "source": [
        "import pandas as pd\n",
        "import numpy as np\n",
        "from sklearn.model_selection import train_test_split\n",
        "from sklearn.preprocessing import StandardScaler\n",
        "from sklearn.linear_model import LinearRegression\n",
        "from sklearn.metrics import mean_absolute_error, mean_squared_error\n",
        "import matplotlib.pyplot as plt\n",
        "\n",
        "data = pd.read_csv('sales.csv')\n",
        "X = data['fahrenheit'].values.reshape(-1, 1)\n",
        "y = data['sales'].values\n",
        "\n",
        "X_train, X_test, y_train, y_test = train_test_split(X, y, test_size=0.2, random_state=42)\n",
        "\n",
        "scaler = StandardScaler()\n",
        "X_train_scaled = scaler.fit_transform(X_train)\n",
        "X_test_scaled = scaler.transform(X_test)\n",
        "\n",
        "model = LinearRegression()\n",
        "model.fit(X_train_scaled, y_train)\n",
        "\n",
        "y_pred_train = model.predict(X_train_scaled)\n",
        "y_pred_test = model.predict(X_test_scaled)\n",
        "\n",
        "mae = mean_absolute_error(y_test, y_pred_test)\n",
        "mse = mean_squared_error(y_test, y_pred_test)\n",
        "rmse = np.sqrt(mse)\n",
        "\n",
        "print(\"\\nModel Evaluation Metrics:\")\n",
        "print(f\"Mean Absolute Error: {mae:.2f}\")\n",
        "print(f\"Mean Squared Error: {mse:.2f}\")\n",
        "print(f\"Root Mean Squared Error: {rmse:.2f}\")\n",
        "print(f\"R² Score: {model.score(X_test_scaled, y_test):.4f}\")\n",
        "\n",
        "plt.figure(figsize=(12, 6))\n",
        "\n",
        "plt.scatter(X_train, y_train, color='blue', label='Training Data', alpha=0.5)\n",
        "# Plot test data\n",
        "plt.scatter(X_test, y_test, color='green', label='Test Data', alpha=0.5)\n",
        "\n",
        "X_sorted = np.sort(X)\n",
        "X_sorted_scaled = scaler.transform(X_sorted.reshape(-1, 1))\n",
        "y_pred_sorted = model.predict(X_sorted_scaled)\n",
        "plt.plot(X_sorted, y_pred_sorted, color='red', label='Regression Line')\n",
        "\n",
        "plt.xlabel('Temperature (Fahrenheit)')\n",
        "plt.ylabel('Sales')\n",
        "plt.title('Linear Regression: Sales vs Temperature')\n",
        "plt.legend()\n",
        "plt.grid(True, alpha=0.3)\n",
        "\n",
        "plt.tight_layout()\n",
        "plt.show()\n",
        "\n",
        "print(\"\\nModel Coefficients:\")\n",
        "print(f\"Slope: {model.coef_[0]:.2f}\")\n",
        "print(f\"Intercept: {model.intercept_:.2f}\")"
      ],
      "metadata": {
        "id": "uXvKo7OaTdvm"
      },
      "execution_count": null,
      "outputs": []
    }
  ]
}
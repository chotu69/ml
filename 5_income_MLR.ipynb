{
  "nbformat": 4,
  "nbformat_minor": 0,
  "metadata": {
    "colab": {
      "provenance": []
    },
    "kernelspec": {
      "name": "python3",
      "display_name": "Python 3"
    },
    "language_info": {
      "name": "python"
    }
  },
  "cells": [
    {
      "cell_type": "markdown",
      "source": [
        "5)\tImplement a multiple linear regression model for the income.csv dataset"
      ],
      "metadata": {
        "id": "KY-_pixRTcfB"
      }
    },
    {
      "cell_type": "markdown",
      "source": [
        "Regression is a statistical method for determining the relationship between features and an\n",
        "outcome variable or result. Multiple linear regression attempts to model the relationship\n",
        "between two or more features and a response by fitting a linear equation to the observed\n",
        "data. Clearly, it is nothing but an extension of simple linear regression.\n",
        "Simple Linear Regression: This is the simplest form of linear regression, and it involves\n",
        "only one independent variable and one dependent variable. The equation for simple linear\n",
        "regression is: Y= β0 + β1.X,\n",
        "Where, Y is the dependent variable, X is the independent variable, β0 is the intercept, β1 is\n",
        "the slope\n",
        "Multiple Linear Regressions: This involves more than one independent variable and one\n",
        "dependent variable. The equation for multiple linear regression is:\n",
        "Y=β0+β1.X1+β2.X2…+βn.Xn\n",
        "Where, Y is the dependent variable, X1, X2, …, Xp are the independent variables, β0 is the\n",
        "intercept, β1, β2, …, βn are the slopes\n",
        "Discussion-\n",
        " Univariate linear regression involves a single independent variable to predict a\n",
        "dependent variable, fitting a straight line to the data.\n",
        " Multivariate linear regression uses multiple independent variables to predict a\n",
        "dependent variable, modeling more complex relationships between the variables."
      ],
      "metadata": {
        "id": "O2Xa_QTcWKkr"
      }
    },
    {
      "cell_type": "code",
      "source": [
        "import pandas as pd\n",
        "import numpy as np\n",
        "from sklearn.model_selection import train_test_split\n",
        "from sklearn.preprocessing import StandardScaler\n",
        "from sklearn.linear_model import LinearRegression\n",
        "from sklearn.metrics import mean_absolute_error, mean_squared_error\n",
        "import matplotlib.pyplot as plt\n",
        "\n",
        "# Load the data\n",
        "data = pd.read_csv('income.csv')\n",
        "\n",
        "# Split features and target\n",
        "X = data[['age', 'experience']]\n",
        "y = data['income']\n",
        "\n",
        "# i. Data scaling\n",
        "scaler = StandardScaler()\n",
        "X_scaled = scaler.fit_transform(X)\n",
        "\n",
        "# ii. Training and testing of the model\n",
        "X_train, X_test, y_train, y_test = train_test_split(X_scaled, y, test_size=0.2, random_state=42)\n",
        "\n",
        "# iii. Create the regression model\n",
        "model = LinearRegression()\n",
        "model.fit(X_train, y_train)\n",
        "\n",
        "# Make predictions\n",
        "y_pred = model.predict(X_test)\n",
        "\n",
        "# iv. Evaluate the model\n",
        "mae = mean_absolute_error(y_test, y_pred)\n",
        "mse = mean_squared_error(y_test, y_pred)\n",
        "rmse = np.sqrt(mse)\n",
        "\n",
        "print(f\"Mean Absolute Error: {mae:.2f}\")\n",
        "print(f\"Mean Squared Error: {mse:.2f}\")\n",
        "print(f\"Root Mean Squared Error: {rmse:.2f}\")\n",
        "\n",
        "# v. Visualize the results\n",
        "\n",
        "# Actual vs Predicted plot\n",
        "plt.figure(figsize=(10, 6))\n",
        "plt.scatter(y_test, y_pred, alpha=0.5)\n",
        "plt.plot([y_test.min(), y_test.max()], [y_test.min(), y_test.max()], 'r--', lw=2)\n",
        "plt.xlabel(\"Actual Income\")\n",
        "plt.ylabel(\"Predicted Income\")\n",
        "plt.title(\"Actual vs Predicted Income\")\n",
        "plt.tight_layout()\n",
        "plt.show()\n",
        "\n",
        "# Residual plot\n",
        "residuals = y_test - y_pred\n",
        "plt.figure(figsize=(10, 6))\n",
        "plt.scatter(y_pred, residuals, alpha=0.5)\n",
        "plt.plot([y_pred.min(), y_pred.max()], [0, 0], 'r--', lw=2)\n",
        "plt.xlabel(\"Predicted Income\")\n",
        "plt.ylabel(\"Residuals\")\n",
        "plt.title(\"Residual Plot\")\n",
        "plt.tight_layout()\n",
        "plt.show()\n",
        "\n",
        "# Feature importance\n",
        "feature_importance = pd.DataFrame({'feature': X.columns, 'importance': abs(model.coef_)})\n",
        "feature_importance = feature_importance.sort_values('importance', ascending=False)\n",
        "plt.figure(figsize=(10, 6))\n",
        "plt.bar(feature_importance['feature'], feature_importance['importance'])\n",
        "plt.xlabel(\"Features\")\n",
        "plt.ylabel(\"Absolute Coefficient Value\")\n",
        "plt.title(\"Feature Importance\")\n",
        "plt.tight_layout()\n",
        "plt.show()\n",
        "\n",
        "# 3D scatter plot\n",
        "fig = plt.figure(figsize=(12, 8))\n",
        "ax = fig.add_subplot(111, projection='3d')\n",
        "scatter = ax.scatter(X['age'], X['experience'], y, c=y, cmap='viridis')\n",
        "ax.set_xlabel('Age')\n",
        "ax.set_ylabel('Experience')\n",
        "ax.set_zlabel('Income')\n",
        "plt.colorbar(scatter)\n",
        "plt.title('3D Scatter Plot: Age, Experience, and Income')\n",
        "plt.tight_layout()\n",
        "plt.show()"
      ],
      "metadata": {
        "id": "uXvKo7OaTdvm"
      },
      "execution_count": null,
      "outputs": []
    }
  ]
}
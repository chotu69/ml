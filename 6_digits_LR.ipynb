{
  "nbformat": 4,
  "nbformat_minor": 0,
  "metadata": {
    "colab": {
      "provenance": []
    },
    "kernelspec": {
      "name": "python3",
      "display_name": "Python 3"
    },
    "language_info": {
      "name": "python"
    }
  },
  "cells": [
    {
      "cell_type": "markdown",
      "source": [
        "6)\tImplement a logistic regression model for the built-in digits dataset"
      ],
      "metadata": {
        "id": "KY-_pixRTcfB"
      }
    },
    {
      "cell_type": "markdown",
      "source": [
        "Logistic regression aims to solve classification problems. It does this by predicting\n",
        "categorical outcomes, unlike linear regression that predicts a continuous outcome. In the\n",
        "simplest case there are two outcomes, which is called binomial, an example of which is\n",
        "predicting if a tumor is malignant or benign. Other cases have more than two outcomes to\n",
        "classify; in this case it is called multinomial. A common example for multinomial logistic\n",
        "regression would be predicting the class of an iris flower between 3 different species.\n",
        "The logistic regression model transforms the linear regression function continuous value\n",
        "output into categorical value output using a sigmoid function, which maps any real-valued\n",
        "set of independent variables input into a value between 0 and 1. This function is known as\n",
        "the logistic function.\n",
        "\n",
        "Logistic Function – Sigmoid Function\n",
        " The sigmoid function is a mathematical function used to map the predicted values to\n",
        "probabilities.\n",
        " It maps any real value into another value within a range of 0 and 1. The value of the\n",
        "logistic regression must be between 0 and 1, which cannot go beyond this limit, so it\n",
        "forms a curve like the “S” form.\n",
        " The S-form curve is called the Sigmoid function or the logistic function.\n",
        " In logistic regression, we use the concept of the threshold value, which defines the\n",
        "probability of either 0 or 1. Such as values above the threshold value tends to 1, and a\n",
        "value below the threshold values tends to 0.\n",
        "\n",
        "Types of Logistic Regression\n",
        "On the basis of the categories, Logistic Regression can be classified into three types:\n",
        "1. Binomial: In binomial Logistic regression, there can be only two possible types of\n",
        "the dependent variables, such as 0 or 1, Pass or Fail, etc.\n",
        "2. Multinomial: In multinomial Logistic regression, there can be 3 or more possible\n",
        "unordered types of the dependent variable, such as “cat”, “dogs”, or “sheep”"
      ],
      "metadata": {
        "id": "O2Xa_QTcWKkr"
      }
    },
    {
      "cell_type": "code",
      "source": [
        "import numpy as np\n",
        "import matplotlib.pyplot as plt\n",
        "from sklearn.datasets import load_digits\n",
        "from sklearn.model_selection import train_test_split, cross_val_score\n",
        "from sklearn.preprocessing import StandardScaler\n",
        "from sklearn.linear_model import LogisticRegression\n",
        "from sklearn.multiclass import OneVsRestClassifier\n",
        "from sklearn.metrics import confusion_matrix, classification_report\n",
        "import seaborn as sns\n",
        "\n",
        "# Load the digits dataset\n",
        "digits = load_digits()\n",
        "X, y = digits.data, digits.target\n",
        "\n",
        "# i. Data scaling\n",
        "scaler = StandardScaler()\n",
        "X_scaled = scaler.fit_transform(X)\n",
        "\n",
        "# ii. Training and testing of the model\n",
        "X_train, X_test, y_train, y_test = train_test_split(X_scaled, y, test_size=0.2, random_state=42)\n",
        "\n",
        "# iii. Create the regression model\n",
        "base_model = LogisticRegression(max_iter=1000)\n",
        "model = OneVsRestClassifier(base_model)\n",
        "model.fit(X_train, y_train)\n",
        "\n",
        "# Make predictions\n",
        "y_pred = model.predict(X_test)\n",
        "\n",
        "# iv. Display confusion matrix and classification report\n",
        "cm = confusion_matrix(y_test, y_pred)\n",
        "print(\"Confusion Matrix:\")\n",
        "print(cm)\n",
        "\n",
        "print(\"\\nClassification Report:\")\n",
        "print(classification_report(y_test, y_pred))\n",
        "\n",
        "# Visualize the confusion matrix\n",
        "plt.figure(figsize=(10, 8))\n",
        "sns.heatmap(cm, annot=True, fmt='d', cmap='Blues')\n",
        "plt.title('Confusion Matrix')\n",
        "plt.xlabel('Predicted Label')\n",
        "plt.ylabel('True Label')\n",
        "plt.show()\n",
        "\n",
        "# v. Display k-fold cross-validation score\n",
        "cv_scores = cross_val_score(model, X_scaled, y, cv=5)\n",
        "print(\"\\nCross-validation scores:\", cv_scores)\n",
        "print(\"Mean CV score:\", cv_scores.mean())\n",
        "print(\"Standard deviation of CV scores:\", cv_scores.std())"
      ],
      "metadata": {
        "id": "uXvKo7OaTdvm"
      },
      "execution_count": null,
      "outputs": []
    }
  ]
}